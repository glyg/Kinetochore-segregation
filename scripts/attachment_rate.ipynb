{
 "metadata": {
  "name": "attachment_rate"
 },
 "nbformat": 3,
 "nbformat_minor": 0,
 "worksheets": [
  {
   "cells": [
    {
     "cell_type": "code",
     "collapsed": true,
     "input": [
      "%load_ext autoreload\n",
      "%autoreload 2"
     ],
     "language": "python",
     "metadata": {},
     "outputs": [],
     "prompt_number": 80
    },
    {
     "cell_type": "code",
     "collapsed": false,
     "input": [
      "from kt_simul.core import simul_spindle as sim\n",
      "from kt_simul.io import SimuIO\n",
      "from kt_simul.draw import Drawer\n",
      "from kt_simul.analysis.attachment_state import *"
     ],
     "language": "python",
     "metadata": {},
     "outputs": [],
     "prompt_number": 81
    },
    {
     "cell_type": "code",
     "collapsed": false,
     "input": [
      "PARAMFILE = \"params.xml\"\n",
      "meta = sim.Metaphase(verbose = True, paramfile = PARAMFILE)"
     ],
     "language": "python",
     "metadata": {},
     "outputs": [
      {
       "output_type": "stream",
       "stream": "stderr",
       "text": [
        "2012/10/18-15:14:49:INFO: Parameters loaded\n"
       ]
      },
      {
       "output_type": "stream",
       "stream": "stderr",
       "text": [
        "2012/10/18-15:14:49:INFO: Simulation initialized\n"
       ]
      }
     ],
     "prompt_number": 82
    },
    {
     "cell_type": "code",
     "collapsed": false,
     "input": [
      "meta.simul()"
     ],
     "language": "python",
     "metadata": {},
     "outputs": [
      {
       "output_type": "stream",
       "stream": "stderr",
       "text": [
        "2012/10/18-15:14:49:INFO: Running simulation\n"
       ]
      },
      {
       "output_type": "stream",
       "stream": "stdout",
       "text": [
        "\r",
        "4% [=>                                                ]"
       ]
      },
      {
       "output_type": "stream",
       "stream": "stdout",
       "text": [
        "\r",
        "7% [==>                                               ]"
       ]
      },
      {
       "output_type": "stream",
       "stream": "stdout",
       "text": [
        "\r",
        "11% [====>                                             ]"
       ]
      },
      {
       "output_type": "stream",
       "stream": "stdout",
       "text": [
        "\r",
        "14% [======>                                           ]"
       ]
      },
      {
       "output_type": "stream",
       "stream": "stdout",
       "text": [
        "\r",
        "17% [=======>                                          ]"
       ]
      },
      {
       "output_type": "stream",
       "stream": "stdout",
       "text": [
        "\r",
        "21% [=========>                                        ]"
       ]
      },
      {
       "output_type": "stream",
       "stream": "stdout",
       "text": [
        "\r",
        "24% [===========>                                      ]"
       ]
      },
      {
       "output_type": "stream",
       "stream": "stdout",
       "text": [
        "\r",
        "27% [============>                                     ]"
       ]
      },
      {
       "output_type": "stream",
       "stream": "stdout",
       "text": [
        "\r",
        "31% [==============>                                   ]"
       ]
      },
      {
       "output_type": "stream",
       "stream": "stdout",
       "text": [
        "\r",
        "34% [================>                                 ]"
       ]
      },
      {
       "output_type": "stream",
       "stream": "stdout",
       "text": [
        "\r",
        "37% [=================>                                ]"
       ]
      },
      {
       "output_type": "stream",
       "stream": "stdout",
       "text": [
        "\r",
        "41% [===================>                              ]"
       ]
      },
      {
       "output_type": "stream",
       "stream": "stdout",
       "text": [
        "\r",
        "44% [=====================>                            ]"
       ]
      },
      {
       "output_type": "stream",
       "stream": "stdout",
       "text": [
        "\r",
        "47% [======================>                           ]"
       ]
      },
      {
       "output_type": "stream",
       "stream": "stdout",
       "text": [
        "\r",
        "51% [========================>                         ]"
       ]
      },
      {
       "output_type": "stream",
       "stream": "stdout",
       "text": [
        "\r",
        "54% [==========================>                       ]"
       ]
      },
      {
       "output_type": "stream",
       "stream": "stdout",
       "text": [
        "\r",
        "57% [===========================>                      ]"
       ]
      },
      {
       "output_type": "stream",
       "stream": "stdout",
       "text": [
        "\r",
        "61% [=============================>                    ]"
       ]
      },
      {
       "output_type": "stream",
       "stream": "stdout",
       "text": [
        "\r",
        "64% [===============================>                  ]"
       ]
      },
      {
       "output_type": "stream",
       "stream": "stdout",
       "text": [
        "\r",
        "67% [================================>                 ]"
       ]
      },
      {
       "output_type": "stream",
       "stream": "stdout",
       "text": [
        "\r",
        "71% [==================================>               ]"
       ]
      },
      {
       "output_type": "stream",
       "stream": "stdout",
       "text": [
        "\r",
        "74% [====================================>             ]"
       ]
      },
      {
       "output_type": "stream",
       "stream": "stdout",
       "text": [
        "\r",
        "77% [=====================================>            ]"
       ]
      },
      {
       "output_type": "stream",
       "stream": "stdout",
       "text": [
        "\r",
        "81% [=======================================>          ]"
       ]
      },
      {
       "output_type": "stream",
       "stream": "stdout",
       "text": [
        "\r",
        "84% [=========================================>        ]"
       ]
      },
      {
       "output_type": "stream",
       "stream": "stdout",
       "text": [
        "\r",
        "87% [==========================================>       ]"
       ]
      },
      {
       "output_type": "stream",
       "stream": "stdout",
       "text": [
        "\r",
        "91% [============================================>     ]"
       ]
      },
      {
       "output_type": "stream",
       "stream": "stdout",
       "text": [
        "\r",
        "94% [==============================================>   ]"
       ]
      },
      {
       "output_type": "stream",
       "stream": "stdout",
       "text": [
        "\r",
        "97% [===============================================>  ]"
       ]
      },
      {
       "output_type": "stream",
       "stream": "stdout",
       "text": [
        "\r",
        "                                                                                \r",
        "\r"
       ]
      },
      {
       "output_type": "stream",
       "stream": "stderr",
       "text": [
        "2012/10/18-15:14:49:INFO: Simulation done\n"
       ]
      }
     ],
     "prompt_number": 83
    },
    {
     "cell_type": "code",
     "collapsed": false,
     "input": [
      "kd = meta.KD"
     ],
     "language": "python",
     "metadata": {},
     "outputs": [],
     "prompt_number": 84
    },
    {
     "cell_type": "code",
     "collapsed": false,
     "input": [
      "defect_histories(kd)"
     ],
     "language": "python",
     "metadata": {},
     "outputs": [
      {
       "output_type": "pyout",
       "prompt_number": 89,
       "text": [
        "({'amphitelic': array([0, 0, 0, 0, 0, 0, 0, 0, 0, 0, 0, 0, 0, 0, 0, 0, 0, 0, 1, 1, 0, 0, 0,\n",
        "       0, 0, 1, 1, 1, 1, 1]),\n",
        "  'merotelic': array([3, 2, 2, 2, 2, 2, 2, 2, 2, 2, 2, 2, 2, 2, 2, 2, 2, 2, 2, 2, 2, 2, 2,\n",
        "       2, 2, 1, 1, 1, 1, 1]),\n",
        "  'monotelic': array([0, 0, 0, 0, 0, 1, 1, 1, 0, 0, 1, 1, 1, 1, 0, 0, 0, 1, 0, 0, 1, 1, 1,\n",
        "       0, 1, 1, 1, 1, 1, 1]),\n",
        "  'syntelic': array([0, 1, 1, 1, 1, 0, 0, 0, 0, 0, 0, 0, 0, 0, 1, 1, 1, 0, 0, 0, 0, 0, 0,\n",
        "       1, 0, 0, 0, 0, 0, 0]),\n",
        "  'unattached': array([0, 0, 0, 0, 0, 0, 0, 0, 1, 1, 0, 0, 0, 0, 0, 0, 0, 0, 0, 0, 0, 0, 0,\n",
        "       0, 0, 0, 0, 0, 0, 0])},\n",
        " {'amphitelic': array([[False, False, False],\n",
        "       [False, False, False],\n",
        "       [False, False, False],\n",
        "       [False, False, False],\n",
        "       [False, False, False],\n",
        "       [False, False, False],\n",
        "       [False, False, False],\n",
        "       [False, False, False],\n",
        "       [False, False, False],\n",
        "       [False, False, False],\n",
        "       [False, False, False],\n",
        "       [False, False, False],\n",
        "       [False, False, False],\n",
        "       [False, False, False],\n",
        "       [False, False, False],\n",
        "       [False, False, False],\n",
        "       [False, False, False],\n",
        "       [False, False, False],\n",
        "       [False,  True, False],\n",
        "       [False,  True, False],\n",
        "       [False, False, False],\n",
        "       [False, False, False],\n",
        "       [False, False, False],\n",
        "       [False, False, False],\n",
        "       [False, False, False],\n",
        "       [ True, False, False],\n",
        "       [ True, False, False],\n",
        "       [ True, False, False],\n",
        "       [ True, False, False],\n",
        "       [ True, False, False]], dtype=bool),\n",
        "  'merotelic': array([[ True,  True,  True],\n",
        "       [ True, False,  True],\n",
        "       [ True, False,  True],\n",
        "       [ True, False,  True],\n",
        "       [ True, False,  True],\n",
        "       [ True, False,  True],\n",
        "       [ True, False,  True],\n",
        "       [ True, False,  True],\n",
        "       [ True, False,  True],\n",
        "       [ True, False,  True],\n",
        "       [ True, False,  True],\n",
        "       [ True, False,  True],\n",
        "       [ True, False,  True],\n",
        "       [ True, False,  True],\n",
        "       [ True, False,  True],\n",
        "       [ True, False,  True],\n",
        "       [ True, False,  True],\n",
        "       [ True, False,  True],\n",
        "       [ True, False,  True],\n",
        "       [ True, False,  True],\n",
        "       [ True, False,  True],\n",
        "       [ True, False,  True],\n",
        "       [ True, False,  True],\n",
        "       [ True, False,  True],\n",
        "       [ True, False,  True],\n",
        "       [False, False,  True],\n",
        "       [False, False,  True],\n",
        "       [False, False,  True],\n",
        "       [False, False,  True],\n",
        "       [False, False,  True]], dtype=bool),\n",
        "  'monotelic': array([[False, False, False],\n",
        "       [False, False, False],\n",
        "       [False, False, False],\n",
        "       [False, False, False],\n",
        "       [False, False, False],\n",
        "       [False,  True, False],\n",
        "       [False,  True, False],\n",
        "       [False,  True, False],\n",
        "       [False, False, False],\n",
        "       [False, False, False],\n",
        "       [False,  True, False],\n",
        "       [False,  True, False],\n",
        "       [False,  True, False],\n",
        "       [False,  True, False],\n",
        "       [False, False, False],\n",
        "       [False, False, False],\n",
        "       [False, False, False],\n",
        "       [False,  True, False],\n",
        "       [False, False, False],\n",
        "       [False, False, False],\n",
        "       [False,  True, False],\n",
        "       [False,  True, False],\n",
        "       [False,  True, False],\n",
        "       [False, False, False],\n",
        "       [False,  True, False],\n",
        "       [False,  True, False],\n",
        "       [False,  True, False],\n",
        "       [False,  True, False],\n",
        "       [False,  True, False],\n",
        "       [False,  True, False]], dtype=bool),\n",
        "  'syntelic': array([[False, False, False],\n",
        "       [False,  True, False],\n",
        "       [False,  True, False],\n",
        "       [False,  True, False],\n",
        "       [False,  True, False],\n",
        "       [False, False, False],\n",
        "       [False, False, False],\n",
        "       [False, False, False],\n",
        "       [False, False, False],\n",
        "       [False, False, False],\n",
        "       [False, False, False],\n",
        "       [False, False, False],\n",
        "       [False, False, False],\n",
        "       [False, False, False],\n",
        "       [False,  True, False],\n",
        "       [False,  True, False],\n",
        "       [False,  True, False],\n",
        "       [False, False, False],\n",
        "       [False, False, False],\n",
        "       [False, False, False],\n",
        "       [False, False, False],\n",
        "       [False, False, False],\n",
        "       [False, False, False],\n",
        "       [False,  True, False],\n",
        "       [False, False, False],\n",
        "       [False, False, False],\n",
        "       [False, False, False],\n",
        "       [False, False, False],\n",
        "       [False, False, False],\n",
        "       [False, False, False]], dtype=bool),\n",
        "  'unattached': array([[False, False, False],\n",
        "       [False, False, False],\n",
        "       [False, False, False],\n",
        "       [False, False, False],\n",
        "       [False, False, False],\n",
        "       [False, False, False],\n",
        "       [False, False, False],\n",
        "       [False, False, False],\n",
        "       [False,  True, False],\n",
        "       [False,  True, False],\n",
        "       [False, False, False],\n",
        "       [False, False, False],\n",
        "       [False, False, False],\n",
        "       [False, False, False],\n",
        "       [False, False, False],\n",
        "       [False, False, False],\n",
        "       [False, False, False],\n",
        "       [False, False, False],\n",
        "       [False, False, False],\n",
        "       [False, False, False],\n",
        "       [False, False, False],\n",
        "       [False, False, False],\n",
        "       [False, False, False],\n",
        "       [False, False, False],\n",
        "       [False, False, False],\n",
        "       [False, False, False],\n",
        "       [False, False, False],\n",
        "       [False, False, False],\n",
        "       [False, False, False],\n",
        "       [False, False, False]], dtype=bool)})"
       ]
      }
     ],
     "prompt_number": 89
    },
    {
     "cell_type": "code",
     "collapsed": false,
     "input": [],
     "language": "python",
     "metadata": {},
     "outputs": [],
     "prompt_number": 73
    },
    {
     "cell_type": "code",
     "collapsed": false,
     "input": [],
     "language": "python",
     "metadata": {},
     "outputs": []
    }
   ],
   "metadata": {}
  }
 ]
}