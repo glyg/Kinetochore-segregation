{
 "metadata": {
  "name": "attachment_rate"
 },
 "nbformat": 3,
 "nbformat_minor": 0,
 "worksheets": [
  {
   "cells": [
    {
     "cell_type": "code",
     "collapsed": true,
     "input": [
      "%load_ext autoreload\n",
      "%autoreload 2"
     ],
     "language": "python",
     "metadata": {},
     "outputs": [],
     "prompt_number": 12
    },
    {
     "cell_type": "code",
     "collapsed": false,
     "input": [
      "from kt_simul.core import simul_spindle as sim\n",
      "from kt_simul.io.simuio import SimuIO\n",
      "from kt_simul.draw import Drawer"
     ],
     "language": "python",
     "metadata": {},
     "outputs": [],
     "prompt_number": 13
    },
    {
     "cell_type": "code",
     "collapsed": false,
     "input": [
      "meta = SimuIO().read(\"results.kt\", verbose=True)"
     ],
     "language": "python",
     "metadata": {},
     "outputs": [
      {
       "output_type": "stream",
       "stream": "stderr",
       "text": [
        "2012/10/19-19:17:40:INFO: Parameters loaded\n"
       ]
      },
      {
       "output_type": "stream",
       "stream": "stderr",
       "text": [
        "2012/10/19-19:17:40:INFO: Simulation initialized\n"
       ]
      }
     ],
     "prompt_number": 14
    },
    {
     "cell_type": "code",
     "collapsed": false,
     "input": [
      "meta.evaluate(groups=['attachment_state'])"
     ],
     "language": "python",
     "metadata": {},
     "outputs": [
      {
       "output_type": "stream",
       "stream": "stderr",
       "text": [
        "2012/10/19-19:17:40:INFO: Starting evaluations\n"
       ]
      },
      {
       "output_type": "stream",
       "stream": "stderr",
       "text": [
        "2012/10/19-19:17:40:INFO: Running Attachment Rate\n"
       ]
      },
      {
       "output_type": "stream",
       "stream": "stderr",
       "text": [
        "2012/10/19-19:17:40:INFO: Attachment Rate done\n"
       ]
      },
      {
       "output_type": "stream",
       "stream": "stderr",
       "text": [
        "2012/10/19-19:17:40:INFO: All evaluations processed\n"
       ]
      },
      {
       "output_type": "pyout",
       "prompt_number": 15,
       "text": [
        "True"
       ]
      }
     ],
     "prompt_number": 15
    },
    {
     "cell_type": "code",
     "collapsed": false,
     "input": [
      "meta.observations.keys()"
     ],
     "language": "python",
     "metadata": {},
     "outputs": [
      {
       "output_type": "pyout",
       "prompt_number": 16,
       "text": [
        "['Attachment_Rate']"
       ]
      }
     ],
     "prompt_number": 16
    },
    {
     "cell_type": "code",
     "collapsed": false,
     "input": [
      "meta.observations"
     ],
     "language": "python",
     "metadata": {},
     "outputs": [
      {
       "output_type": "pyout",
       "prompt_number": 17,
       "text": [
        "{'Attachment_Rate': (array([[ 0.,  0.,  0., ...,  0.,  0.,  0.],\n",
        "       [ 2.,  2.,  2., ...,  0.,  0.,  0.],\n",
        "       [ 2.,  2.,  2., ...,  0.,  0.,  0.],\n",
        "       ..., \n",
        "       [ 1.,  1.,  1., ...,  0.,  0.,  0.],\n",
        "       [ 0.,  0.,  0., ...,  0.,  0.,  0.],\n",
        "       [ 0.,  0.,  0., ...,  0.,  0.,  0.]]),\n",
        "  {'corrected': array([ 0.,  0.,  0., ...,  0.,  0.,  0.]),\n",
        "   'cut': array([ 2.,  2.,  2., ...,  0.,  0.,  0.]),\n",
        "   'monotelic': array([ 0.,  0.,  0., ...,  0.,  0.,  0.]),\n",
        "   'syntelic': array([ 2.,  2.,  2., ...,  0.,  0.,  0.])})}"
       ]
      }
     ],
     "prompt_number": 17
    },
    {
     "cell_type": "code",
     "collapsed": false,
     "input": [
      "print meta"
     ],
     "language": "python",
     "metadata": {},
     "outputs": [
      {
       "output_type": "stream",
       "stream": "stdout",
       "text": [
        "Metaphase class\n",
        "Parameters:\n",
        "{'Fmz': 11.865079365079366\n",
        " 'orientation': 1\n",
        " 'sac': 1\n",
        " 't_A': 720.0\n",
        " 'd0': 0.1\n",
        " 'span': 900.0\n",
        " 'mus': 1.5\n",
        " 'd_alpha': 0.05\n",
        " 'muc': 1.3333333333333335\n",
        " 'ld_slope': 0.0\n",
        " 'Fk': 10.0\n",
        " 'muk': 3.6\n",
        " 'Mk': 4\n",
        " 'N': 3\n",
        " 'kappa_c': 4.444444444444445\n",
        " 'ld0': 1.0\n",
        " 'k_d0': 0.03\n",
        " 'L0': 0.3\n",
        " 'kappa_k': 10.0\n",
        " 'dt': 0.5\n",
        " 'Vk': 0.03\n",
        " 'Vmz': 0.6666666666666667\n",
        " 'k_a': 0.03}\n",
        "Measures:\n",
        "{'mean_metaph_k_dist': 0.3\n",
        " 'tau_k': 12.0\n",
        " 'oi_dist': 0.2\n",
        " 'poleward_speed': 0.03\n",
        " 'tau_c': 10.0\n",
        " 'metaph_rate': 0.002\n",
        " 'obs_d0': 0.1\n",
        " 'max_metaph_k_dist': 1.0\n",
        " 'anaph_rate': 0.02}\n",
        "\n",
        "Observations:\n",
        "{'Attachment_Rate': (array([[ 0.\n",
        "  0.\n",
        "  0.\n",
        " ...\n",
        "  0.\n",
        "  0.\n",
        "  0.]\n",
        "\n",
        "       [ 2.\n",
        "  2.\n",
        "  2.\n",
        " ...\n",
        "  0.\n",
        "  0.\n",
        "  0.]\n",
        "\n",
        "       [ 2.\n",
        "  2.\n",
        "  2.\n",
        " ...\n",
        "  0.\n",
        "  0.\n",
        "  0.]\n",
        "\n",
        "       ...\n",
        " \n",
        "       [ 1.\n",
        "  1.\n",
        "  1.\n",
        " ...\n",
        "  0.\n",
        "  0.\n",
        "  0.]\n",
        "\n",
        "       [ 0.\n",
        "  0.\n",
        "  0.\n",
        " ...\n",
        "  0.\n",
        "  0.\n",
        "  0.]\n",
        "\n",
        "       [ 0.\n",
        "  0.\n",
        "  0.\n",
        " ...\n",
        "  0.\n",
        "  0.\n",
        "  0.]])\n",
        " {'monotelic': array([ 0.\n",
        "  0.\n",
        "  0.\n",
        " ...\n",
        "  0.\n",
        "  0.\n",
        "  0.])\n",
        " 'cut': array([ 2.\n",
        "  2.\n",
        "  2.\n",
        " ...\n",
        "  0.\n",
        "  0.\n",
        "  0.])\n",
        " 'corrected': array([ 0.\n",
        "  0.\n",
        "  0.\n",
        " ...\n",
        "  0.\n",
        "  0.\n",
        "  0.])\n",
        " 'syntelic': array([ 2.\n",
        "  2.\n",
        "  2.\n",
        " ...\n",
        "  0.\n",
        "  0.\n",
        "  0.])})}\n"
       ]
      }
     ],
     "prompt_number": 18
    },
    {
     "cell_type": "code",
     "collapsed": false,
     "input": [],
     "language": "python",
     "metadata": {},
     "outputs": []
    }
   ],
   "metadata": {}
  }
 ]
}