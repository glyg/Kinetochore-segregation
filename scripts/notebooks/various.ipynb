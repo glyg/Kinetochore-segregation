{
 "metadata": {
  "name": "various"
 },
 "nbformat": 3,
 "nbformat_minor": 0,
 "worksheets": [
  {
   "cells": [
    {
     "cell_type": "code",
     "collapsed": false,
     "input": [
      "t = np.array([np.arange(0, 10),\n",
      "              np.arange(0, 10),\n",
      "              np.arange(0, 10),\n",
      "              np.arange(0, 10)])\n",
      "print t"
     ],
     "language": "python",
     "metadata": {},
     "outputs": [
      {
       "output_type": "stream",
       "stream": "stdout",
       "text": [
        "[[0 1 2 3 4 5 6 7 8 9]\n",
        " [0 1 2 3 4 5 6 7 8 9]\n",
        " [0 1 2 3 4 5 6 7 8 9]\n",
        " [0 1 2 3 4 5 6 7 8 9]]\n"
       ]
      }
     ],
     "prompt_number": 8
    },
    {
     "cell_type": "code",
     "collapsed": false,
     "input": [
      "t.mean(axis=0)"
     ],
     "language": "python",
     "metadata": {},
     "outputs": [
      {
       "output_type": "pyout",
       "prompt_number": 12,
       "text": [
        "array([ 0.,  1.,  2.,  3.,  4.,  5.,  6.,  7.,  8.,  9.])"
       ]
      }
     ],
     "prompt_number": 12
    }
   ],
   "metadata": {}
  }
 ]
}