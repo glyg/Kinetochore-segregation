{
 "metadata": {
  "name": "various"
 },
 "nbformat": 3,
 "nbformat_minor": 0,
 "worksheets": [
  {
   "cells": [
    {
     "cell_type": "code",
     "collapsed": false,
     "input": [
      "t = np.array([np.arange(10, 20),\n",
      "              np.arange(0, 10),\n",
      "              np.arange(5, 15),\n",
      "              np.arange(40, 50)])\n",
      "print t"
     ],
     "language": "python",
     "metadata": {},
     "outputs": [
      {
       "output_type": "stream",
       "stream": "stdout",
       "text": [
        "[[10 11 12 13 14 15 16 17 18 19]\n",
        " [ 0  1  2  3  4  5  6  7  8  9]\n",
        " [ 5  6  7  8  9 10 11 12 13 14]\n",
        " [40 41 42 43 44 45 46 47 48 49]]\n"
       ]
      }
     ],
     "prompt_number": 4
    },
    {
     "cell_type": "code",
     "collapsed": false,
     "input": [
      "t.min(axis=0)"
     ],
     "language": "python",
     "metadata": {},
     "outputs": [
      {
       "output_type": "pyout",
       "prompt_number": 8,
       "text": [
        "array([0, 1, 2, 3, 4, 5, 6, 7, 8, 9])"
       ]
      }
     ],
     "prompt_number": 8
    }
   ],
   "metadata": {}
  }
 ]
}