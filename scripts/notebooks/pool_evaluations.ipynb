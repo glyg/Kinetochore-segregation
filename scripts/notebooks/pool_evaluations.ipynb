{
 "metadata": {
  "name": "pool_evaluations"
 },
 "nbformat": 3,
 "nbformat_minor": 0,
 "worksheets": [
  {
   "cells": [
    {
     "cell_type": "code",
     "collapsed": false,
     "input": [
      "%load_ext autoreload\n",
      "%autoreload 2"
     ],
     "language": "python",
     "metadata": {},
     "outputs": [],
     "prompt_number": 1
    },
    {
     "cell_type": "code",
     "collapsed": false,
     "input": [
      "from kt_simul.cluster.process import Process\n",
      "import socket\n",
      "import os"
     ],
     "language": "python",
     "metadata": {},
     "outputs": [],
     "prompt_number": 1
    },
    {
     "cell_type": "code",
     "collapsed": false,
     "input": [
      "# Get all available evaluations\n",
      "import kt_simul.analysis.pool_evaluations as pool_evaluations\n",
      "print pool_evaluations.get()"
     ],
     "language": "python",
     "metadata": {},
     "outputs": [
      {
       "output_type": "stream",
       "stream": "stdout",
       "text": [
        "['Kinetochores Trajectories', 'Mitotic Plate', 'Chromosome Attachment', 'Kineto Attachment']\n"
       ]
      }
     ],
     "prompt_number": 2
    },
    {
     "cell_type": "code",
     "collapsed": false,
     "input": [
      "if socket.gethostname() == \"boromir\":\n",
      "    results = \"/home/hadim/local/data/ktsimu\"\n",
      "else:\n",
      "    results = \"/media/thor/data/ktsimu/\""
     ],
     "language": "python",
     "metadata": {},
     "outputs": [],
     "prompt_number": 3
    },
    {
     "cell_type": "code",
     "collapsed": false,
     "input": [
      "process = Process(results_path=os.path.join(results, \"2012.11.02_Default_n100_noldep\"))"
     ],
     "language": "python",
     "metadata": {},
     "outputs": [
      {
       "output_type": "stream",
       "stream": "stderr",
       "text": [
        "2012/11/02-16:36:30:INFO: Processor initialised\n"
       ]
      }
     ],
     "prompt_number": 4
    },
    {
     "cell_type": "code",
     "collapsed": false,
     "input": [
      "res = process.evaluate(groups=['plate'], debug=True)"
     ],
     "language": "python",
     "metadata": {},
     "outputs": [
      {
       "output_type": "stream",
       "stream": "stderr",
       "text": [
        "2012/11/02-16:36:31:INFO: Starting pool evaluations\n"
       ]
      },
      {
       "output_type": "stream",
       "stream": "stderr",
       "text": [
        "2012/11/02-16:36:31:INFO: Running Mitotic Plate\n"
       ]
      },
      {
       "output_type": "stream",
       "stream": "stderr",
       "text": [
        "2012/11/02-16:36:31:INFO: Mitotic Plate done\n"
       ]
      },
      {
       "output_type": "stream",
       "stream": "stderr",
       "text": [
        "2012/11/02-16:36:31:INFO: All pool evaluations processed\n"
       ]
      }
     ],
     "prompt_number": 5
    },
    {
     "cell_type": "code",
     "collapsed": false,
     "input": [],
     "language": "python",
     "metadata": {},
     "outputs": []
    }
   ],
   "metadata": {}
  }
 ]
}