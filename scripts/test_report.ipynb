{
 "metadata": {
  "name": "test_report"
 },
 "nbformat": 3,
 "nbformat_minor": 0,
 "worksheets": [
  {
   "cells": [
    {
     "cell_type": "code",
     "collapsed": false,
     "input": [
      "%load_ext autoreload\n",
      "%autoreload 2"
     ],
     "language": "python",
     "metadata": {},
     "outputs": [],
     "prompt_number": 2
    },
    {
     "cell_type": "code",
     "collapsed": false,
     "input": [
      "from kt_simul.io.simuio import SimuIO\n",
      "from kt_simul.draw import Drawer\n",
      "from kt_simul.core.simul_spindle import Metaphase"
     ],
     "language": "python",
     "metadata": {},
     "outputs": [],
     "prompt_number": 3
    },
    {
     "cell_type": "code",
     "collapsed": false,
     "input": [
      "meta = SimuIO().read(\"results.kt\")"
     ],
     "language": "python",
     "metadata": {},
     "outputs": [],
     "prompt_number": 4
    },
    {
     "cell_type": "code",
     "collapsed": false,
     "input": [
      "meta.paramtree.relative_dic"
     ],
     "language": "python",
     "metadata": {},
     "outputs": [
      {
       "output_type": "pyout",
       "prompt_number": 10,
       "text": [
        "{'Fk': 10.0,\n",
        " 'Fmz': 11.865079365079366,\n",
        " 'L0': 0.3,\n",
        " 'Mk': 4,\n",
        " 'N': 3,\n",
        " 'Vk': 0.03,\n",
        " 'Vmz': 0.6666666666666667,\n",
        " 'd0': 0.1,\n",
        " 'd_alpha': 0.05,\n",
        " 'dt': 0.5,\n",
        " 'k_a': 0.03,\n",
        " 'k_d0': 0.03,\n",
        " 'kappa_c': 4.444444444444445,\n",
        " 'kappa_k': 10.0,\n",
        " 'ld0': 1.0,\n",
        " 'ld_slope': 0.0,\n",
        " 'muc': 1.3333333333333335,\n",
        " 'muk': 3.6,\n",
        " 'mus': 1.5,\n",
        " 'orientation': 1,\n",
        " 'sac': 1,\n",
        " 'span': 900.0,\n",
        " 't_A': 720.0}"
       ]
      }
     ],
     "prompt_number": 10
    },
    {
     "cell_type": "code",
     "collapsed": false,
     "input": [
      "meta.report()"
     ],
     "language": "python",
     "metadata": {},
     "outputs": [
      {
       "ename": "TypeError",
       "evalue": "'list' object is not callable",
       "output_type": "pyerr",
       "traceback": [
        "\u001b[1;31m---------------------------------------------------------------------------\u001b[0m\n\u001b[1;31mTypeError\u001b[0m                                 Traceback (most recent call last)",
        "\u001b[1;32m<ipython-input-5-281372237431>\u001b[0m in \u001b[0;36m<module>\u001b[1;34m()\u001b[0m\n\u001b[1;32m----> 1\u001b[1;33m \u001b[0mmeta\u001b[0m\u001b[1;33m.\u001b[0m\u001b[0mreport\u001b[0m\u001b[1;33m(\u001b[0m\u001b[1;33m)\u001b[0m\u001b[1;33m\u001b[0m\u001b[0m\n\u001b[0m",
        "\u001b[1;31mTypeError\u001b[0m: 'list' object is not callable"
       ]
      }
     ],
     "prompt_number": 5
    },
    {
     "cell_type": "code",
     "collapsed": false,
     "input": [],
     "language": "python",
     "metadata": {},
     "outputs": []
    }
   ],
   "metadata": {}
  }
 ]
}