{
 "metadata": {
  "name": "main"
 },
 "nbformat": 3,
 "nbformat_minor": 0,
 "worksheets": [
  {
   "cells": [
    {
     "cell_type": "code",
     "collapsed": false,
     "input": [
      "%load_ext autoreload\n",
      "%autoreload 2"
     ],
     "language": "python",
     "metadata": {},
     "outputs": []
    },
    {
     "cell_type": "code",
     "collapsed": false,
     "input": [
      "from kt_simul.io import SimuIO\n",
      "from kt_simul.draw import Drawer\n",
      "from kt_simul.core.simul_spindle import Metaphase"
     ],
     "language": "python",
     "metadata": {},
     "outputs": []
    },
    {
     "cell_type": "code",
     "collapsed": false,
     "input": [
      "PARAMFILE = \"params.xml\"\n",
      "meta = Metaphase(verbose = True, paramfile = PARAMFILE)"
     ],
     "language": "python",
     "metadata": {},
     "outputs": []
    },
    {
     "cell_type": "code",
     "collapsed": false,
     "input": [
      "meta.simul()"
     ],
     "language": "python",
     "metadata": {},
     "outputs": []
    },
    {
     "cell_type": "code",
     "collapsed": false,
     "input": [
      "meta.evaluate(groups = [\"attachement_state\"])"
     ],
     "language": "python",
     "metadata": {},
     "outputs": []
    },
    {
     "cell_type": "code",
     "collapsed": false,
     "input": [
      "print meta.observations['Balance_Histories'][1]\n",
      "print meta.observations['Defect_Histories'][0]"
     ],
     "language": "python",
     "metadata": {},
     "outputs": []
    },
    {
     "cell_type": "raw",
     "metadata": {},
     "source": [
      "d = Drawer(meta)\n",
      "d.show_all()\n",
      "d.show_one()"
     ]
    },
    {
     "cell_type": "raw",
     "metadata": {},
     "source": [
      "io = SimuIO(meta)\n",
      "io.save(\"results.xml\", \"data.npy\")"
     ]
    }
   ],
   "metadata": {}
  }
 ]
}