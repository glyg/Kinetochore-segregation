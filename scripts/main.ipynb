{
 "metadata": {
  "name": "main"
 },
 "nbformat": 3,
 "nbformat_minor": 0,
 "worksheets": [
  {
   "cells": [
    {
     "cell_type": "code",
     "collapsed": false,
     "input": [
      "%load_ext autoreload\n",
      "%autoreload 2"
     ],
     "language": "python",
     "metadata": {},
     "outputs": []
    },
    {
     "cell_type": "code",
     "collapsed": false,
     "input": [
      "from kt_simul.io.simuio import SimuIO\n",
      "from kt_simul.draw import Drawer\n",
      "from kt_simul.core.simul_spindle import Metaphase"
     ],
     "language": "python",
     "metadata": {},
     "outputs": []
    },
    {
     "cell_type": "code",
     "collapsed": false,
     "input": [
      "PARAMFILE = \"params.xml\"\n",
      "meta = Metaphase(verbose = True, paramfile = PARAMFILE)"
     ],
     "language": "python",
     "metadata": {},
     "outputs": []
    },
    {
     "cell_type": "code",
     "collapsed": false,
     "input": [
      "meta.simul()"
     ],
     "language": "python",
     "metadata": {},
     "outputs": []
    },
    {
     "cell_type": "raw",
     "metadata": {},
     "source": [
      "meta.evaluate(groups = [\"attachement_state\"])"
     ]
    },
    {
     "cell_type": "raw",
     "metadata": {},
     "source": [
      "print meta.observations['Balance_Histories'][1]\n",
      "print meta.observations['Defect_Histories'][0]"
     ]
    },
    {
     "cell_type": "raw",
     "metadata": {},
     "source": [
      "d = Drawer(meta)\n",
      "d.show_all()\n",
      "d.show_one()"
     ]
    },
    {
     "cell_type": "code",
     "collapsed": false,
     "input": [
      "io = SimuIO(meta)\n",
      "io.save(\"results.zip\")"
     ],
     "language": "python",
     "metadata": {},
     "outputs": []
    },
    {
     "cell_type": "code",
     "collapsed": false,
     "input": [
      " "
     ],
     "language": "python",
     "metadata": {},
     "outputs": []
    }
   ],
   "metadata": {}
  }
 ]
}